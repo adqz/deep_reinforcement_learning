{
 "cells": [
  {
   "cell_type": "code",
   "execution_count": 1,
   "metadata": {},
   "outputs": [],
   "source": [
    "import numpy as np\n",
    "import torch\n",
    "import torch.nn as nn\n",
    "import gym\n",
    "import pybulletgym\n",
    "\n",
    "import copy, time\n",
    "import pickle\n",
    "\n",
    "from decomp import TD4"
   ]
  },
  {
   "cell_type": "code",
   "execution_count": 3,
   "metadata": {
    "scrolled": true
   },
   "outputs": [
    {
     "name": "stdout",
     "output_type": "stream",
     "text": [
      "CAUTION: Environment will have sparse reward now\n",
      "Start\n",
      "options= \n"
     ]
    },
    {
     "name": "stderr",
     "output_type": "stream",
     "text": [
      "100%|██████████| 1000/1000 [00:08<00:00, 118.76it/s]\n",
      "  1%|▏         | 13/1000 [00:00<00:08, 118.06it/s]"
     ]
    },
    {
     "name": "stdout",
     "output_type": "stream",
     "text": [
      "options= \n",
      "Iteration 1000/100000\n",
      "Rewards: 0 | Q Loss: 2.1086802991423037e-06, 2.3226122354491032e-06 | Policy Objective: -0.0004163276649088634\n"
     ]
    },
    {
     "name": "stderr",
     "output_type": "stream",
     "text": [
      "100%|██████████| 1000/1000 [00:09<00:00, 100.31it/s]\n",
      "  1%|          | 10/1000 [00:00<00:09, 99.08it/s]"
     ]
    },
    {
     "name": "stdout",
     "output_type": "stream",
     "text": [
      "Iteration 2000/100000\n",
      "Rewards: 0 | Q Loss: 1.0557685692316971e-06, 1.1627431362624052e-06 | Policy Objective: -8.805200039543385e-05\n"
     ]
    },
    {
     "name": "stderr",
     "output_type": "stream",
     "text": [
      "100%|██████████| 1000/1000 [00:09<00:00, 110.49it/s]\n",
      "  1%|          | 11/1000 [00:00<00:10, 98.36it/s]"
     ]
    },
    {
     "name": "stdout",
     "output_type": "stream",
     "text": [
      "Iteration 3000/100000\n",
      "Rewards: 0 | Q Loss: 7.041410970464574e-07, 7.754570416038999e-07 | Policy Objective: 2.4215396528218126e-05\n"
     ]
    },
    {
     "name": "stderr",
     "output_type": "stream",
     "text": [
      "100%|██████████| 1000/1000 [00:09<00:00, 103.90it/s]\n",
      "  1%|          | 9/1000 [00:00<00:11, 87.37it/s]"
     ]
    },
    {
     "name": "stdout",
     "output_type": "stream",
     "text": [
      "Iteration 4000/100000\n",
      "Rewards: 0 | Q Loss: 5.283029291176046e-07, 5.817895590090469e-07 | Policy Objective: 8.004894478749648e-05\n"
     ]
    },
    {
     "name": "stderr",
     "output_type": "stream",
     "text": [
      "100%|██████████| 1000/1000 [00:09<00:00, 102.60it/s]\n",
      "  1%|          | 7/1000 [00:00<00:15, 64.24it/s]"
     ]
    },
    {
     "name": "stdout",
     "output_type": "stream",
     "text": [
      "Iteration 5000/100000\n",
      "Rewards: 0 | Q Loss: 4.228063220765723e-07, 4.6559512905982964e-07 | Policy Objective: 0.00011314186378067204\n"
     ]
    },
    {
     "name": "stderr",
     "output_type": "stream",
     "text": [
      "100%|██████████| 1000/1000 [00:09<00:00, 103.22it/s]\n",
      "  1%|          | 11/1000 [00:00<00:10, 98.34it/s]"
     ]
    },
    {
     "name": "stdout",
     "output_type": "stream",
     "text": [
      "Iteration 6000/100000\n",
      "Rewards: 0 | Q Loss: 3.5247186300851243e-07, 3.881280166003398e-07 | Policy Objective: 0.0001348839380717114\n"
     ]
    },
    {
     "name": "stderr",
     "output_type": "stream",
     "text": [
      "100%|██████████| 1000/1000 [00:09<00:00, 105.95it/s]\n",
      "  1%|          | 11/1000 [00:00<00:10, 98.16it/s]"
     ]
    },
    {
     "name": "stdout",
     "output_type": "stream",
     "text": [
      "Iteration 7000/100000\n",
      "Rewards: 0 | Q Loss: 3.022671605027173e-07, 3.328264545099924e-07 | Policy Objective: 0.000150093019163073\n"
     ]
    },
    {
     "name": "stderr",
     "output_type": "stream",
     "text": [
      "100%|██████████| 1000/1000 [00:09<00:00, 106.91it/s]\n",
      "  1%|          | 11/1000 [00:00<00:09, 100.11it/s]"
     ]
    },
    {
     "name": "stdout",
     "output_type": "stream",
     "text": [
      "Iteration 8000/100000\n",
      "Rewards: 0 | Q Loss: 2.6461351004202894e-07, 2.91352627970625e-07 | Policy Objective: 0.00016127166799510484\n"
     ]
    },
    {
     "name": "stderr",
     "output_type": "stream",
     "text": [
      "100%|██████████| 1000/1000 [00:09<00:00, 104.75it/s]\n",
      "  1%|          | 11/1000 [00:00<00:11, 84.16it/s]"
     ]
    },
    {
     "name": "stdout",
     "output_type": "stream",
     "text": [
      "Iteration 9000/100000\n",
      "Rewards: 0 | Q Loss: 2.3536486138838487e-07, 2.5911486591672424e-07 | Policy Objective: 0.00016974141197068183\n"
     ]
    },
    {
     "name": "stderr",
     "output_type": "stream",
     "text": [
      "100%|██████████| 1000/1000 [00:09<00:00, 103.74it/s]\n",
      "  1%|          | 11/1000 [00:00<00:10, 97.01it/s]"
     ]
    },
    {
     "name": "stdout",
     "output_type": "stream",
     "text": [
      "Iteration 10000/100000\n",
      "Rewards: 0 | Q Loss: 2.1225715831816133e-07, 2.3347503972293966e-07 | Policy Objective: 0.0001763158337998193\n"
     ]
    },
    {
     "name": "stderr",
     "output_type": "stream",
     "text": [
      "100%|██████████| 1000/1000 [00:09<00:00, 104.83it/s]\n",
      "  1%|          | 11/1000 [00:00<00:10, 91.44it/s]"
     ]
    },
    {
     "name": "stdout",
     "output_type": "stream",
     "text": [
      "Iteration 11000/100000\n",
      "Rewards: 0 | Q Loss: 1.9386028714975222e-07, 2.1314303090874456e-07 | Policy Objective: 0.00018152456030325035\n"
     ]
    },
    {
     "name": "stderr",
     "output_type": "stream",
     "text": [
      "100%|██████████| 1000/1000 [00:09<00:00, 103.11it/s]\n",
      "  1%|          | 11/1000 [00:00<00:10, 96.01it/s]"
     ]
    },
    {
     "name": "stdout",
     "output_type": "stream",
     "text": [
      "Iteration 12000/100000\n",
      "Rewards: 0 | Q Loss: 1.5945656637328387e-06, 1.6122411245571574e-06 | Policy Objective: 0.00018396367004115352\n"
     ]
    },
    {
     "name": "stderr",
     "output_type": "stream",
     "text": [
      "100%|██████████| 1000/1000 [00:10<00:00, 96.61it/s]\n",
      "  1%|          | 9/1000 [00:00<00:11, 83.13it/s]"
     ]
    },
    {
     "name": "stdout",
     "output_type": "stream",
     "text": [
      "Iteration 13000/100000\n",
      "Rewards: 0 | Q Loss: 2.7198596821747476e-06, 2.7361754540250623e-06 | Policy Objective: 0.00018533368359295607\n"
     ]
    },
    {
     "name": "stderr",
     "output_type": "stream",
     "text": [
      "100%|██████████| 1000/1000 [00:11<00:00, 87.53it/s]\n",
      "  1%|          | 9/1000 [00:00<00:12, 78.60it/s]"
     ]
    },
    {
     "name": "stdout",
     "output_type": "stream",
     "text": [
      "Iteration 14000/100000\n",
      "Rewards: 0 | Q Loss: 4.830720848333932e-06, 4.8458711865632735e-06 | Policy Objective: 0.00018440551540247686\n"
     ]
    },
    {
     "name": "stderr",
     "output_type": "stream",
     "text": [
      "100%|██████████| 1000/1000 [00:11<00:00, 89.22it/s]\n",
      "  1%|          | 9/1000 [00:00<00:11, 87.89it/s]"
     ]
    },
    {
     "name": "stdout",
     "output_type": "stream",
     "text": [
      "Iteration 15000/100000\n",
      "Rewards: 0 | Q Loss: 5.580730043927475e-06, 5.594870356393628e-06 | Policy Objective: 0.00018365458041152212\n"
     ]
    },
    {
     "name": "stderr",
     "output_type": "stream",
     "text": [
      "100%|██████████| 1000/1000 [00:11<00:00, 88.38it/s]\n",
      "  1%|          | 9/1000 [00:00<00:11, 85.34it/s]"
     ]
    },
    {
     "name": "stdout",
     "output_type": "stream",
     "text": [
      "Iteration 16000/100000\n",
      "Rewards: 0 | Q Loss: 1.0221166919598815e-05, 1.0234423467173542e-05 | Policy Objective: 0.00017848121152263505\n"
     ]
    },
    {
     "name": "stderr",
     "output_type": "stream",
     "text": [
      "100%|██████████| 1000/1000 [00:11<00:00, 90.91it/s]\n",
      "  1%|          | 9/1000 [00:00<00:11, 87.66it/s]"
     ]
    },
    {
     "name": "stdout",
     "output_type": "stream",
     "text": [
      "Iteration 17000/100000\n",
      "Rewards: 0 | Q Loss: 1.1512551572936163e-05, 1.1525028320264042e-05 | Policy Objective: 0.00017374582070436783\n"
     ]
    },
    {
     "name": "stderr",
     "output_type": "stream",
     "text": [
      "100%|██████████| 1000/1000 [00:11<00:00, 89.54it/s]\n",
      "  1%|          | 9/1000 [00:00<00:11, 84.36it/s]"
     ]
    },
    {
     "name": "stdout",
     "output_type": "stream",
     "text": [
      "Iteration 18000/100000\n",
      "Rewards: 0 | Q Loss: 1.4432536412058559e-05, 1.4444320006419301e-05 | Policy Objective: 0.00016717118829226153\n"
     ]
    },
    {
     "name": "stderr",
     "output_type": "stream",
     "text": [
      "100%|██████████| 1000/1000 [00:11<00:00, 90.22it/s]\n",
      "  1%|          | 9/1000 [00:00<00:13, 76.18it/s]"
     ]
    },
    {
     "name": "stdout",
     "output_type": "stream",
     "text": [
      "Iteration 19000/100000\n",
      "Rewards: 0 | Q Loss: 1.7876353913538598e-05, 1.7887517318339692e-05 | Policy Objective: 0.00015845957116966932\n"
     ]
    },
    {
     "name": "stderr",
     "output_type": "stream",
     "text": [
      "100%|██████████| 1000/1000 [00:11<00:00, 88.90it/s]\n",
      "  1%|          | 9/1000 [00:00<00:12, 77.00it/s]"
     ]
    },
    {
     "name": "stdout",
     "output_type": "stream",
     "text": [
      "Iteration 20000/100000\n",
      "Rewards: 0 | Q Loss: 2.095600954624374e-05, 2.0966614780732512e-05 | Policy Objective: 0.00014863720464174506\n"
     ]
    },
    {
     "name": "stderr",
     "output_type": "stream",
     "text": [
      "100%|██████████| 1000/1000 [00:12<00:00, 78.79it/s]\n",
      "  1%|          | 9/1000 [00:00<00:11, 85.20it/s]"
     ]
    },
    {
     "name": "stdout",
     "output_type": "stream",
     "text": [
      "Iteration 21000/100000\n",
      "Rewards: 0 | Q Loss: 2.1465922509985074e-05, 2.147602273329398e-05 | Policy Objective: 0.00014037688549685967\n"
     ]
    },
    {
     "name": "stderr",
     "output_type": "stream",
     "text": [
      "100%|██████████| 1000/1000 [00:16<00:00, 59.86it/s]\n",
      "  1%|          | 9/1000 [00:00<00:12, 82.49it/s]"
     ]
    },
    {
     "name": "stdout",
     "output_type": "stream",
     "text": [
      "Iteration 22000/100000\n",
      "Rewards: 0 | Q Loss: 2.0490198774139535e-05, 2.0499839896388944e-05 | Policy Objective: 0.00013422029976345627\n"
     ]
    },
    {
     "name": "stderr",
     "output_type": "stream",
     "text": [
      "100%|██████████| 1000/1000 [00:11<00:00, 89.58it/s]\n",
      "  1%|          | 9/1000 [00:00<00:12, 81.27it/s]"
     ]
    },
    {
     "name": "stdout",
     "output_type": "stream",
     "text": [
      "Iteration 23000/100000\n",
      "Rewards: 0 | Q Loss: 1.9599320581761654e-05, 1.960854252478283e-05 | Policy Objective: 0.00012859713783443317\n"
     ]
    },
    {
     "name": "stderr",
     "output_type": "stream",
     "text": [
      "100%|██████████| 1000/1000 [00:12<00:00, 81.75it/s]\n",
      "  1%|          | 9/1000 [00:00<00:12, 76.49it/s]"
     ]
    },
    {
     "name": "stdout",
     "output_type": "stream",
     "text": [
      "Iteration 24000/100000\n",
      "Rewards: 0 | Q Loss: 1.8782682238044186e-05, 1.879151993343948e-05 | Policy Objective: 0.0001234409286671145\n"
     ]
    },
    {
     "name": "stderr",
     "output_type": "stream",
     "text": [
      "100%|██████████| 1000/1000 [00:11<00:00, 89.68it/s]\n",
      "  1%|          | 9/1000 [00:00<00:11, 83.49it/s]"
     ]
    },
    {
     "name": "stdout",
     "output_type": "stream",
     "text": [
      "Iteration 25000/100000\n",
      "Rewards: 0 | Q Loss: 1.803137496262973e-05, 1.803985915020921e-05 | Policy Objective: 0.00011869545737141096\n"
     ]
    },
    {
     "name": "stderr",
     "output_type": "stream",
     "text": [
      "100%|██████████| 1000/1000 [00:11<00:00, 89.51it/s]\n",
      "  1%|          | 9/1000 [00:00<00:12, 76.31it/s]"
     ]
    },
    {
     "name": "stdout",
     "output_type": "stream",
     "text": [
      "Iteration 26000/100000\n",
      "Rewards: 0 | Q Loss: 1.7337860554146087e-05, 1.7346018426818664e-05 | Policy Objective: 0.00011431353898908351\n"
     ]
    },
    {
     "name": "stderr",
     "output_type": "stream",
     "text": [
      "100%|██████████| 1000/1000 [00:11<00:00, 89.73it/s]\n",
      "  1%|          | 9/1000 [00:00<00:11, 83.23it/s]"
     ]
    },
    {
     "name": "stdout",
     "output_type": "stream",
     "text": [
      "Iteration 27000/100000\n",
      "Rewards: 0 | Q Loss: 1.66957175818869e-05, 1.670357331112716e-05 | Policy Objective: 0.00011025492411873415\n"
     ]
    },
    {
     "name": "stderr",
     "output_type": "stream",
     "text": [
      "100%|██████████| 1000/1000 [00:13<00:00, 76.09it/s]\n",
      "  1%|          | 7/1000 [00:00<00:16, 59.55it/s]"
     ]
    },
    {
     "name": "stdout",
     "output_type": "stream",
     "text": [
      "Iteration 28000/100000\n",
      "Rewards: 0 | Q Loss: 1.6099441965407996e-05, 1.6107017132889674e-05 | Policy Objective: 0.00010648474685977845\n"
     ]
    },
    {
     "name": "stderr",
     "output_type": "stream",
     "text": [
      "100%|██████████| 1000/1000 [00:12<00:00, 78.89it/s]\n",
      "  1%|          | 9/1000 [00:00<00:11, 82.95it/s]"
     ]
    },
    {
     "name": "stdout",
     "output_type": "stream",
     "text": [
      "Iteration 29000/100000\n",
      "Rewards: 0 | Q Loss: 1.5544288807272645e-05, 1.555160276208254e-05 | Policy Objective: 0.00010297307746773228\n"
     ]
    },
    {
     "name": "stderr",
     "output_type": "stream",
     "text": [
      "100%|██████████| 1000/1000 [00:11<00:00, 90.07it/s]\n",
      "  1%|          | 7/1000 [00:00<00:16, 60.65it/s]"
     ]
    },
    {
     "name": "stdout",
     "output_type": "stream",
     "text": [
      "Iteration 30000/100000\n",
      "Rewards: 0 | Q Loss: 1.5026145861001e-05, 1.5033216017317234e-05 | Policy Objective: 9.969420299179095e-05\n"
     ]
    },
    {
     "name": "stderr",
     "output_type": "stream",
     "text": [
      "100%|██████████| 1000/1000 [00:11<00:00, 84.07it/s]\n",
      "  1%|          | 9/1000 [00:00<00:13, 73.93it/s]"
     ]
    },
    {
     "name": "stdout",
     "output_type": "stream",
     "text": [
      "Iteration 31000/100000\n",
      "Rewards: 0 | Q Loss: 1.5088291125907248e-05, 1.5095133212659803e-05 | Policy Objective: 9.593633662115494e-05\n"
     ]
    },
    {
     "name": "stderr",
     "output_type": "stream",
     "text": [
      "100%|██████████| 1000/1000 [00:12<00:00, 81.31it/s]\n",
      "  1%|          | 9/1000 [00:00<00:12, 81.92it/s]"
     ]
    },
    {
     "name": "stdout",
     "output_type": "stream",
     "text": [
      "Iteration 32000/100000\n",
      "Rewards: 0 | Q Loss: 1.6127929207849496e-05, 1.6134557479391848e-05 | Policy Objective: 9.092167067732485e-05\n"
     ]
    },
    {
     "name": "stderr",
     "output_type": "stream",
     "text": [
      "100%|██████████| 1000/1000 [00:11<00:00, 89.59it/s]\n",
      "  1%|          | 9/1000 [00:00<00:12, 79.72it/s]"
     ]
    },
    {
     "name": "stdout",
     "output_type": "stream",
     "text": [
      "Iteration 33000/100000\n",
      "Rewards: 0 | Q Loss: 1.8070238999115598e-05, 1.8076666413944787e-05 | Policy Objective: 8.445958084053176e-05\n"
     ]
    },
    {
     "name": "stderr",
     "output_type": "stream",
     "text": [
      "100%|██████████| 1000/1000 [00:11<00:00, 88.45it/s]\n",
      "  1%|          | 9/1000 [00:00<00:12, 80.65it/s]"
     ]
    },
    {
     "name": "stdout",
     "output_type": "stream",
     "text": [
      "Iteration 34000/100000\n",
      "Rewards: 0 | Q Loss: 2.0346467850530972e-05, 2.035270622374757e-05 | Policy Objective: 7.635466920922125e-05\n"
     ]
    },
    {
     "name": "stderr",
     "output_type": "stream",
     "text": [
      "100%|██████████| 1000/1000 [00:11<00:00, 83.55it/s]\n",
      "  1%|          | 9/1000 [00:00<00:12, 80.34it/s]"
     ]
    },
    {
     "name": "stdout",
     "output_type": "stream",
     "text": [
      "Iteration 35000/100000\n",
      "Rewards: 0 | Q Loss: 2.385654783999037e-05, 2.3862607973972235e-05 | Policy Objective: 6.581311898211271e-05\n"
     ]
    },
    {
     "name": "stderr",
     "output_type": "stream",
     "text": [
      "100%|██████████| 1000/1000 [00:11<00:00, 84.67it/s]\n",
      "  1%|          | 9/1000 [00:00<00:11, 85.50it/s]"
     ]
    },
    {
     "name": "stdout",
     "output_type": "stream",
     "text": [
      "Iteration 36000/100000\n",
      "Rewards: 0 | Q Loss: 2.3638462159455098e-05, 2.3644353956381907e-05 | Policy Objective: 5.867136076793257e-05\n"
     ]
    },
    {
     "name": "stderr",
     "output_type": "stream",
     "text": [
      "100%|██████████| 1000/1000 [00:11<00:00, 86.50it/s]\n",
      "  1%|          | 9/1000 [00:00<00:12, 80.18it/s]"
     ]
    },
    {
     "name": "stdout",
     "output_type": "stream",
     "text": [
      "Iteration 37000/100000\n",
      "Rewards: 0 | Q Loss: 2.2999597816197917e-05, 2.300533037536995e-05 | Policy Objective: 5.2125153591209046e-05\n"
     ]
    },
    {
     "name": "stderr",
     "output_type": "stream",
     "text": [
      "100%|██████████| 1000/1000 [00:12<00:00, 80.46it/s]\n",
      "  1%|          | 9/1000 [00:00<00:13, 74.28it/s]"
     ]
    },
    {
     "name": "stdout",
     "output_type": "stream",
     "text": [
      "Iteration 38000/100000\n",
      "Rewards: 0 | Q Loss: 2.239435857511775e-05, 2.2399940277469465e-05 | Policy Objective: 4.5965381709708964e-05\n"
     ]
    },
    {
     "name": "stderr",
     "output_type": "stream",
     "text": [
      "100%|██████████| 1000/1000 [00:11<00:00, 86.51it/s]\n",
      "  1%|          | 9/1000 [00:00<00:12, 80.16it/s]"
     ]
    },
    {
     "name": "stdout",
     "output_type": "stream",
     "text": [
      "Iteration 39000/100000\n",
      "Rewards: 0 | Q Loss: 2.3466741901896378e-05, 2.347218048367497e-05 | Policy Objective: 3.787821422754182e-05\n"
     ]
    },
    {
     "name": "stderr",
     "output_type": "stream",
     "text": [
      "100%|██████████| 1000/1000 [00:11<00:00, 86.37it/s]\n",
      "  1%|          | 8/1000 [00:00<00:12, 80.00it/s]"
     ]
    },
    {
     "name": "stdout",
     "output_type": "stream",
     "text": [
      "Iteration 40000/100000\n",
      "Rewards: 0 | Q Loss: 2.447930167974439e-05, 2.4484604296978527e-05 | Policy Objective: 2.9766261678178786e-05\n"
     ]
    },
    {
     "name": "stderr",
     "output_type": "stream",
     "text": [
      "100%|██████████| 1000/1000 [00:11<00:00, 89.19it/s]\n",
      "  1%|          | 9/1000 [00:00<00:12, 81.72it/s]"
     ]
    },
    {
     "name": "stdout",
     "output_type": "stream",
     "text": [
      "Iteration 41000/100000\n",
      "Rewards: 0 | Q Loss: 2.4271617691296903e-05, 2.4276790976403376e-05 | Policy Objective: 2.2669201454804775e-05\n"
     ]
    },
    {
     "name": "stderr",
     "output_type": "stream",
     "text": [
      "100%|██████████| 1000/1000 [00:13<00:00, 75.20it/s]\n",
      "  1%|          | 9/1000 [00:00<00:11, 83.66it/s]"
     ]
    },
    {
     "name": "stdout",
     "output_type": "stream",
     "text": [
      "Iteration 42000/100000\n",
      "Rewards: 0 | Q Loss: 2.3693739016035096e-05, 2.3698789127686653e-05 | Policy Objective: 1.6314556224558786e-05\n"
     ]
    },
    {
     "name": "stderr",
     "output_type": "stream",
     "text": [
      "100%|██████████| 1000/1000 [00:12<00:00, 82.05it/s]\n",
      "  1%|          | 8/1000 [00:00<00:12, 79.97it/s]"
     ]
    },
    {
     "name": "stdout",
     "output_type": "stream",
     "text": [
      "Iteration 43000/100000\n",
      "Rewards: 0 | Q Loss: 2.314274153855685e-05, 2.3147674205751392e-05 | Policy Objective: 1.030684736434337e-05\n"
     ]
    },
    {
     "name": "stderr",
     "output_type": "stream",
     "text": [
      "100%|██████████| 1000/1000 [00:12<00:00, 81.00it/s]\n",
      "  1%|          | 9/1000 [00:00<00:12, 81.94it/s]"
     ]
    },
    {
     "name": "stdout",
     "output_type": "stream",
     "text": [
      "Iteration 44000/100000\n",
      "Rewards: 0 | Q Loss: 2.261678811503303e-05, 2.262160867615497e-05 | Policy Objective: 4.616592326668221e-06\n"
     ]
    },
    {
     "name": "stderr",
     "output_type": "stream",
     "text": [
      "100%|██████████| 1000/1000 [00:12<00:00, 80.13it/s]\n",
      "  1%|          | 9/1000 [00:00<00:12, 82.34it/s]"
     ]
    },
    {
     "name": "stdout",
     "output_type": "stream",
     "text": [
      "Iteration 45000/100000\n",
      "Rewards: 0 | Q Loss: 2.2114211244902266e-05, 2.211892468244372e-05 | Policy Objective: -7.76041199904278e-07\n"
     ]
    },
    {
     "name": "stderr",
     "output_type": "stream",
     "text": [
      "100%|██████████| 1000/1000 [00:18<00:00, 52.99it/s]\n",
      "  1%|          | 7/1000 [00:00<00:16, 62.03it/s]"
     ]
    },
    {
     "name": "stdout",
     "output_type": "stream",
     "text": [
      "Iteration 46000/100000\n",
      "Rewards: 0 | Q Loss: 2.1633485802758374e-05, 2.1638096774266316e-05 | Policy Objective: -5.888984015869304e-06\n"
     ]
    },
    {
     "name": "stderr",
     "output_type": "stream",
     "text": [
      "100%|██████████| 1000/1000 [00:13<00:00, 74.73it/s]\n",
      "  1%|          | 7/1000 [00:00<00:16, 59.67it/s]"
     ]
    },
    {
     "name": "stdout",
     "output_type": "stream",
     "text": [
      "Iteration 47000/100000\n",
      "Rewards: 0 | Q Loss: 2.1173217136934374e-05, 2.1177730002665556e-05 | Policy Objective: -1.074243299382063e-05\n"
     ]
    },
    {
     "name": "stderr",
     "output_type": "stream",
     "text": [
      "100%|██████████| 1000/1000 [00:14<00:00, 71.04it/s]\n",
      "  1%|          | 9/1000 [00:00<00:13, 72.82it/s]"
     ]
    },
    {
     "name": "stdout",
     "output_type": "stream",
     "text": [
      "Iteration 48000/100000\n",
      "Rewards: 0 | Q Loss: 2.073212716284106e-05, 2.073654601053617e-05 | Policy Objective: -1.5354280669985384e-05\n"
     ]
    },
    {
     "name": "stderr",
     "output_type": "stream",
     "text": [
      "100%|██████████| 1000/1000 [00:12<00:00, 79.95it/s]\n",
      "  1%|          | 7/1000 [00:00<00:15, 65.09it/s]"
     ]
    },
    {
     "name": "stdout",
     "output_type": "stream",
     "text": [
      "Iteration 49000/100000\n",
      "Rewards: 0 | Q Loss: 2.0309041049863224e-05, 2.031336971699313e-05 | Policy Objective: -1.9736840478107432e-05\n"
     ]
    },
    {
     "name": "stderr",
     "output_type": "stream",
     "text": [
      "100%|██████████| 1000/1000 [00:12<00:00, 77.88it/s]\n",
      "  1%|          | 9/1000 [00:00<00:12, 77.75it/s]"
     ]
    },
    {
     "name": "stdout",
     "output_type": "stream",
     "text": [
      "Iteration 50000/100000\n",
      "Rewards: 0 | Q Loss: 1.990288421012423e-05, 1.990712630391154e-05 | Policy Objective: -2.390152798006115e-05\n"
     ]
    },
    {
     "name": "stderr",
     "output_type": "stream",
     "text": [
      "100%|██████████| 1000/1000 [00:12<00:00, 77.79it/s]\n",
      "  1%|          | 7/1000 [00:00<00:15, 63.65it/s]"
     ]
    },
    {
     "name": "stdout",
     "output_type": "stream",
     "text": [
      "Iteration 51000/100000\n",
      "Rewards: 0 | Q Loss: 1.951267637694349e-05, 1.951683529242124e-05 | Policy Objective: -2.7869220306798412e-05\n"
     ]
    },
    {
     "name": "stderr",
     "output_type": "stream",
     "text": [
      "100%|██████████| 1000/1000 [00:12<00:00, 81.60it/s]\n",
      "  1%|          | 7/1000 [00:00<00:18, 53.29it/s]"
     ]
    },
    {
     "name": "stdout",
     "output_type": "stream",
     "text": [
      "Iteration 52000/100000\n",
      "Rewards: 0 | Q Loss: 1.9137613983186172e-05, 1.914169291952012e-05 | Policy Objective: -3.1642604101114685e-05\n"
     ]
    },
    {
     "name": "stderr",
     "output_type": "stream",
     "text": [
      "100%|██████████| 1000/1000 [00:13<00:00, 73.63it/s]\n",
      "  1%|          | 7/1000 [00:00<00:14, 69.71it/s]"
     ]
    },
    {
     "name": "stdout",
     "output_type": "stream",
     "text": [
      "Iteration 53000/100000\n",
      "Rewards: 0 | Q Loss: 1.8776719863169472e-05, 1.878072183844052e-05 | Policy Objective: -3.52421444796217e-05\n"
     ]
    },
    {
     "name": "stderr",
     "output_type": "stream",
     "text": [
      "100%|██████████| 1000/1000 [00:13<00:00, 76.21it/s]\n",
      "  1%|          | 7/1000 [00:00<00:14, 68.55it/s]"
     ]
    },
    {
     "name": "stdout",
     "output_type": "stream",
     "text": [
      "Iteration 54000/100000\n",
      "Rewards: 0 | Q Loss: 1.8429175992749704e-05, 1.843310385736758e-05 | Policy Objective: -3.867442979489226e-05\n"
     ]
    },
    {
     "name": "stderr",
     "output_type": "stream",
     "text": [
      "100%|██████████| 1000/1000 [00:13<00:00, 73.51it/s]\n",
      "  0%|          | 5/1000 [00:00<00:20, 47.53it/s]"
     ]
    },
    {
     "name": "stdout",
     "output_type": "stream",
     "text": [
      "Iteration 55000/100000\n",
      "Rewards: 0 | Q Loss: 1.8094260946598646e-05, 1.8098117395496195e-05 | Policy Objective: -4.1943571262448093e-05\n"
     ]
    },
    {
     "name": "stderr",
     "output_type": "stream",
     "text": [
      "100%|██████████| 1000/1000 [00:11<00:00, 83.76it/s]\n",
      "  1%|          | 9/1000 [00:00<00:12, 82.21it/s]"
     ]
    },
    {
     "name": "stdout",
     "output_type": "stream",
     "text": [
      "Iteration 56000/100000\n",
      "Rewards: 0 | Q Loss: 1.7771333112161522e-05, 1.777512069590019e-05 | Policy Objective: -4.506549445353673e-05\n"
     ]
    },
    {
     "name": "stderr",
     "output_type": "stream",
     "text": [
      "100%|██████████| 1000/1000 [00:12<00:00, 81.46it/s]\n",
      "  1%|          | 9/1000 [00:00<00:12, 77.81it/s]"
     ]
    },
    {
     "name": "stdout",
     "output_type": "stream",
     "text": [
      "Iteration 57000/100000\n",
      "Rewards: 0 | Q Loss: 1.745973230965494e-05, 1.7463453444556085e-05 | Policy Objective: -4.804585691017231e-05\n"
     ]
    },
    {
     "name": "stderr",
     "output_type": "stream",
     "text": [
      "100%|██████████| 1000/1000 [00:11<00:00, 87.07it/s]\n",
      "  1%|          | 9/1000 [00:00<00:11, 82.84it/s]"
     ]
    },
    {
     "name": "stdout",
     "output_type": "stream",
     "text": [
      "Iteration 58000/100000\n",
      "Rewards: 0 | Q Loss: 1.7158873902741724e-05, 1.7162530880144572e-05 | Policy Objective: -5.0888462514444236e-05\n"
     ]
    },
    {
     "name": "stderr",
     "output_type": "stream",
     "text": [
      "100%|██████████| 1000/1000 [00:11<00:00, 84.39it/s]\n",
      "  1%|          | 9/1000 [00:00<00:13, 76.16it/s]"
     ]
    },
    {
     "name": "stdout",
     "output_type": "stream",
     "text": [
      "Iteration 59000/100000\n",
      "Rewards: 0 | Q Loss: 1.6868209004870043e-05, 1.687180399960505e-05 | Policy Objective: -5.3605192178338556e-05\n"
     ]
    },
    {
     "name": "stderr",
     "output_type": "stream",
     "text": [
      "100%|██████████| 1000/1000 [00:11<00:00, 85.76it/s]\n",
      "  1%|          | 9/1000 [00:00<00:12, 79.84it/s]"
     ]
    },
    {
     "name": "stdout",
     "output_type": "stream",
     "text": [
      "Iteration 60000/100000\n",
      "Rewards: 0 | Q Loss: 1.6587221740301216e-05, 1.6590756818457305e-05 | Policy Objective: -5.6205024170459235e-05\n"
     ]
    },
    {
     "name": "stderr",
     "output_type": "stream",
     "text": [
      "100%|██████████| 1000/1000 [00:12<00:00, 80.25it/s]\n",
      "  1%|          | 9/1000 [00:00<00:11, 83.23it/s]"
     ]
    },
    {
     "name": "stdout",
     "output_type": "stream",
     "text": [
      "Iteration 61000/100000\n",
      "Rewards: 0 | Q Loss: 1.6315448945110605e-05, 1.6318926071165775e-05 | Policy Objective: -5.869152660441018e-05\n"
     ]
    },
    {
     "name": "stderr",
     "output_type": "stream",
     "text": [
      "100%|██████████| 1000/1000 [00:11<00:00, 86.27it/s]\n",
      "  1%|          | 9/1000 [00:00<00:13, 75.28it/s]"
     ]
    },
    {
     "name": "stdout",
     "output_type": "stream",
     "text": [
      "Iteration 62000/100000\n",
      "Rewards: 0 | Q Loss: 1.6052451283087198e-05, 1.605587232646406e-05 | Policy Objective: -6.107003732717524e-05\n"
     ]
    },
    {
     "name": "stderr",
     "output_type": "stream",
     "text": [
      "100%|██████████| 1000/1000 [00:11<00:00, 84.43it/s]\n",
      "  1%|          | 9/1000 [00:00<00:12, 77.80it/s]"
     ]
    },
    {
     "name": "stdout",
     "output_type": "stream",
     "text": [
      "Iteration 63000/100000\n",
      "Rewards: 0 | Q Loss: 1.5797816130924568e-05, 1.5801182872025604e-05 | Policy Objective: -6.33490993667743e-05\n"
     ]
    },
    {
     "name": "stderr",
     "output_type": "stream",
     "text": [
      "100%|██████████| 1000/1000 [00:12<00:00, 82.06it/s]\n",
      "  1%|          | 7/1000 [00:00<00:15, 63.21it/s]"
     ]
    },
    {
     "name": "stdout",
     "output_type": "stream",
     "text": [
      "Iteration 64000/100000\n",
      "Rewards: 0 | Q Loss: 1.5551130142914526e-05, 1.555444427868586e-05 | Policy Objective: -6.553239593605665e-05\n"
     ]
    },
    {
     "name": "stderr",
     "output_type": "stream",
     "text": [
      "100%|██████████| 1000/1000 [00:12<00:00, 82.17it/s]\n",
      "  1%|          | 9/1000 [00:00<00:11, 83.16it/s]"
     ]
    },
    {
     "name": "stdout",
     "output_type": "stream",
     "text": [
      "Iteration 65000/100000\n",
      "Rewards: 0 | Q Loss: 1.5312017951464586e-05, 1.531528110053175e-05 | Policy Objective: -6.761913443562102e-05\n"
     ]
    },
    {
     "name": "stderr",
     "output_type": "stream",
     "text": [
      "100%|██████████| 1000/1000 [00:11<00:00, 88.35it/s]\n",
      "  1%|          | 9/1000 [00:00<00:12, 82.49it/s]"
     ]
    },
    {
     "name": "stdout",
     "output_type": "stream",
     "text": [
      "Iteration 66000/100000\n",
      "Rewards: 0 | Q Loss: 1.5080162044579743e-05, 1.508337575199437e-05 | Policy Objective: -6.962122147002879e-05\n"
     ]
    },
    {
     "name": "stderr",
     "output_type": "stream",
     "text": [
      "100%|██████████| 1000/1000 [00:11<00:00, 89.49it/s]\n",
      "  1%|          | 9/1000 [00:00<00:11, 84.08it/s]"
     ]
    },
    {
     "name": "stdout",
     "output_type": "stream",
     "text": [
      "Iteration 67000/100000\n",
      "Rewards: 0 | Q Loss: 1.4855233201428536e-05, 1.4858398943060855e-05 | Policy Objective: -7.153621729157133e-05\n"
     ]
    },
    {
     "name": "stderr",
     "output_type": "stream",
     "text": [
      "100%|██████████| 1000/1000 [00:11<00:00, 86.59it/s]\n",
      "  1%|          | 9/1000 [00:00<00:12, 80.56it/s]"
     ]
    },
    {
     "name": "stdout",
     "output_type": "stream",
     "text": [
      "Iteration 68000/100000\n",
      "Rewards: 0 | Q Loss: 1.4636906529356386e-05, 1.4640025715964701e-05 | Policy Objective: -7.336991415323139e-05\n"
     ]
    },
    {
     "name": "stderr",
     "output_type": "stream",
     "text": [
      "100%|██████████| 1000/1000 [00:11<00:00, 88.79it/s]\n",
      "  1%|          | 9/1000 [00:00<00:13, 71.14it/s]"
     ]
    },
    {
     "name": "stdout",
     "output_type": "stream",
     "text": [
      "Iteration 69000/100000\n",
      "Rewards: 0 | Q Loss: 1.4424917030272385e-05, 1.4427991011277681e-05 | Policy Objective: -7.51251752662492e-05\n"
     ]
    },
    {
     "name": "stderr",
     "output_type": "stream",
     "text": [
      "100%|██████████| 1000/1000 [00:12<00:00, 78.04it/s]\n",
      "  1%|          | 7/1000 [00:00<00:15, 64.46it/s]"
     ]
    },
    {
     "name": "stdout",
     "output_type": "stream",
     "text": [
      "Iteration 70000/100000\n",
      "Rewards: 0 | Q Loss: 1.4218976184776829e-05, 1.4222006251767764e-05 | Policy Objective: -7.680927615339952e-05\n"
     ]
    },
    {
     "name": "stderr",
     "output_type": "stream",
     "text": [
      "100%|██████████| 1000/1000 [00:11<00:00, 86.63it/s]\n",
      "  1%|          | 9/1000 [00:00<00:12, 81.30it/s]"
     ]
    },
    {
     "name": "stdout",
     "output_type": "stream",
     "text": [
      "Iteration 71000/100000\n",
      "Rewards: 0 | Q Loss: 1.401884614633351e-05, 1.4021833536324571e-05 | Policy Objective: -7.842174539397415e-05\n"
     ]
    },
    {
     "name": "stderr",
     "output_type": "stream",
     "text": [
      "100%|██████████| 1000/1000 [00:11<00:00, 87.83it/s]\n",
      "  1%|          | 9/1000 [00:00<00:12, 80.97it/s]"
     ]
    },
    {
     "name": "stdout",
     "output_type": "stream",
     "text": [
      "Iteration 72000/100000\n",
      "Rewards: 0 | Q Loss: 1.3824272310920385e-05, 1.3827218209383793e-05 | Policy Objective: -7.997203407963476e-05\n"
     ]
    },
    {
     "name": "stderr",
     "output_type": "stream",
     "text": [
      "100%|██████████| 1000/1000 [00:11<00:00, 89.32it/s]\n",
      "  1%|          | 9/1000 [00:00<00:11, 85.65it/s]"
     ]
    },
    {
     "name": "stdout",
     "output_type": "stream",
     "text": [
      "Iteration 73000/100000\n",
      "Rewards: 0 | Q Loss: 1.3635029304503005e-05, 1.3637934848192942e-05 | Policy Objective: -8.145597972758335e-05\n"
     ]
    },
    {
     "name": "stderr",
     "output_type": "stream",
     "text": [
      "100%|██████████| 1000/1000 [00:11<00:00, 86.16it/s]\n",
      "  1%|          | 9/1000 [00:00<00:12, 81.89it/s]"
     ]
    },
    {
     "name": "stdout",
     "output_type": "stream",
     "text": [
      "Iteration 74000/100000\n",
      "Rewards: 0 | Q Loss: 1.3450902309595374e-05, 1.3453768589181394e-05 | Policy Objective: -8.287717827573098e-05\n"
     ]
    },
    {
     "name": "stderr",
     "output_type": "stream",
     "text": [
      "100%|██████████| 1000/1000 [00:11<00:00, 88.29it/s]\n",
      "  1%|          | 9/1000 [00:00<00:12, 79.29it/s]"
     ]
    },
    {
     "name": "stdout",
     "output_type": "stream",
     "text": [
      "Iteration 75000/100000\n",
      "Rewards: 0 | Q Loss: 1.3271681233924247e-05, 1.327450929644912e-05 | Policy Objective: -8.424329792218467e-05\n"
     ]
    },
    {
     "name": "stderr",
     "output_type": "stream",
     "text": [
      "100%|██████████| 1000/1000 [00:11<00:00, 87.15it/s]\n",
      "  1%|          | 9/1000 [00:00<00:11, 85.06it/s]"
     ]
    },
    {
     "name": "stdout",
     "output_type": "stream",
     "text": [
      "Iteration 76000/100000\n",
      "Rewards: 0 | Q Loss: 1.3097178905767381e-05, 1.3099969756943241e-05 | Policy Objective: -8.555130226002397e-05\n"
     ]
    },
    {
     "name": "stderr",
     "output_type": "stream",
     "text": [
      "100%|██████████| 1000/1000 [00:11<00:00, 84.36it/s]\n",
      "  1%|          | 9/1000 [00:00<00:13, 74.93it/s]"
     ]
    },
    {
     "name": "stdout",
     "output_type": "stream",
     "text": [
      "Iteration 77000/100000\n",
      "Rewards: 0 | Q Loss: 1.2927206263703364e-05, 1.2929960870058759e-05 | Policy Objective: -8.680468824595174e-05\n"
     ]
    },
    {
     "name": "stderr",
     "output_type": "stream",
     "text": [
      "100%|██████████| 1000/1000 [00:12<00:00, 81.39it/s]\n",
      "  1%|          | 9/1000 [00:00<00:12, 79.15it/s]"
     ]
    },
    {
     "name": "stdout",
     "output_type": "stream",
     "text": [
      "Iteration 78000/100000\n",
      "Rewards: 0 | Q Loss: 1.2761588690830411e-05, 1.276430798171971e-05 | Policy Objective: -8.800676740759904e-05\n"
     ]
    },
    {
     "name": "stderr",
     "output_type": "stream",
     "text": [
      "100%|██████████| 1000/1000 [00:11<00:00, 85.88it/s]\n",
      "  1%|          | 9/1000 [00:00<00:12, 80.32it/s]"
     ]
    },
    {
     "name": "stdout",
     "output_type": "stream",
     "text": [
      "Iteration 79000/100000\n",
      "Rewards: 0 | Q Loss: 1.2600176862022282e-05, 1.2602861731507918e-05 | Policy Objective: -8.915720418055107e-05\n"
     ]
    },
    {
     "name": "stderr",
     "output_type": "stream",
     "text": [
      "100%|██████████| 1000/1000 [00:11<00:00, 86.25it/s]\n",
      "  1%|          | 9/1000 [00:00<00:11, 84.34it/s]"
     ]
    },
    {
     "name": "stdout",
     "output_type": "stream",
     "text": [
      "Iteration 80000/100000\n",
      "Rewards: 0 | Q Loss: 1.2442799866338466e-05, 1.2445451174955533e-05 | Policy Objective: -9.026347704315606e-05\n"
     ]
    },
    {
     "name": "stderr",
     "output_type": "stream",
     "text": [
      "100%|██████████| 1000/1000 [00:11<00:00, 84.29it/s]\n",
      "  1%|          | 9/1000 [00:00<00:11, 87.23it/s]"
     ]
    },
    {
     "name": "stdout",
     "output_type": "stream",
     "text": [
      "Iteration 81000/100000\n",
      "Rewards: 0 | Q Loss: 1.228929112627e-05, 1.2291909702681917e-05 | Policy Objective: -9.132225522711505e-05\n"
     ]
    },
    {
     "name": "stderr",
     "output_type": "stream",
     "text": [
      "100%|██████████| 1000/1000 [00:11<00:00, 87.13it/s]\n",
      "  1%|          | 9/1000 [00:00<00:11, 84.19it/s]"
     ]
    },
    {
     "name": "stdout",
     "output_type": "stream",
     "text": [
      "Iteration 82000/100000\n",
      "Rewards: 0 | Q Loss: 1.2139537678981598e-05, 1.2142124321534834e-05 | Policy Objective: -9.233958867172676e-05\n"
     ]
    },
    {
     "name": "stderr",
     "output_type": "stream",
     "text": [
      "100%|██████████| 1000/1000 [00:39<00:00, 25.38it/s]\n",
      "  0%|          | 0/1000 [00:00<?, ?it/s]"
     ]
    },
    {
     "name": "stdout",
     "output_type": "stream",
     "text": [
      "Iteration 83000/100000\n",
      "Rewards: 0 | Q Loss: 1.1993388620569288e-05, 1.1995944098754413e-05 | Policy Objective: -9.331387677971446e-05\n"
     ]
    },
    {
     "name": "stderr",
     "output_type": "stream",
     "text": [
      "100%|██████████| 1000/1000 [01:01<00:00, 16.24it/s]\n",
      "  1%|          | 9/1000 [00:00<00:12, 77.45it/s]"
     ]
    },
    {
     "name": "stdout",
     "output_type": "stream",
     "text": [
      "Iteration 84000/100000\n",
      "Rewards: 0 | Q Loss: 1.1850726778472861e-05, 1.1853251834298638e-05 | Policy Objective: -9.424924307690658e-05\n"
     ]
    },
    {
     "name": "stderr",
     "output_type": "stream",
     "text": [
      "100%|██████████| 1000/1000 [00:11<00:00, 84.75it/s]\n",
      "  1%|          | 6/1000 [00:00<00:17, 57.55it/s]"
     ]
    },
    {
     "name": "stdout",
     "output_type": "stream",
     "text": [
      "Iteration 85000/100000\n",
      "Rewards: 0 | Q Loss: 1.1711411083438828e-05, 1.171390643272548e-05 | Policy Objective: -9.514652016718871e-05\n"
     ]
    },
    {
     "name": "stderr",
     "output_type": "stream",
     "text": [
      "100%|██████████| 1000/1000 [00:13<00:00, 74.94it/s]\n",
      "  1%|          | 9/1000 [00:00<00:12, 78.30it/s]"
     ]
    },
    {
     "name": "stdout",
     "output_type": "stream",
     "text": [
      "Iteration 86000/100000\n",
      "Rewards: 0 | Q Loss: 1.1575334686615126e-05, 1.1577801020212397e-05 | Policy Objective: -9.600491435949304e-05\n"
     ]
    },
    {
     "name": "stderr",
     "output_type": "stream",
     "text": [
      "100%|██████████| 1000/1000 [00:11<00:00, 89.46it/s]\n",
      "  1%|          | 9/1000 [00:00<00:12, 79.52it/s]"
     ]
    },
    {
     "name": "stdout",
     "output_type": "stream",
     "text": [
      "Iteration 87000/100000\n",
      "Rewards: 0 | Q Loss: 1.1442401049235152e-05, 1.1444839034170386e-05 | Policy Objective: -9.682657556936719e-05\n"
     ]
    },
    {
     "name": "stderr",
     "output_type": "stream",
     "text": [
      "100%|██████████| 1000/1000 [00:11<00:00, 89.05it/s]\n",
      "  1%|          | 9/1000 [00:00<00:11, 83.11it/s]"
     ]
    },
    {
     "name": "stdout",
     "output_type": "stream",
     "text": [
      "Iteration 88000/100000\n",
      "Rewards: 0 | Q Loss: 1.131248253481955e-05, 1.131489281538052e-05 | Policy Objective: -9.76142074915551e-05\n"
     ]
    },
    {
     "name": "stderr",
     "output_type": "stream",
     "text": [
      "100%|██████████| 1000/1000 [00:11<00:00, 90.22it/s]\n",
      "  1%|          | 9/1000 [00:00<00:12, 78.20it/s]"
     ]
    },
    {
     "name": "stdout",
     "output_type": "stream",
     "text": [
      "Iteration 89000/100000\n",
      "Rewards: 0 | Q Loss: 1.1185482264709401e-05, 1.1187865463466316e-05 | Policy Objective: -9.836859910503848e-05\n"
     ]
    },
    {
     "name": "stderr",
     "output_type": "stream",
     "text": [
      "100%|██████████| 1000/1000 [00:11<00:00, 89.69it/s]\n",
      "  1%|          | 9/1000 [00:00<00:11, 83.88it/s]"
     ]
    },
    {
     "name": "stdout",
     "output_type": "stream",
     "text": [
      "Iteration 90000/100000\n",
      "Rewards: 0 | Q Loss: 1.1061295636032037e-05, 1.1063652354802765e-05 | Policy Objective: -9.90899641779687e-05\n"
     ]
    },
    {
     "name": "stderr",
     "output_type": "stream",
     "text": [
      "100%|██████████| 1000/1000 [00:12<00:00, 80.71it/s]\n",
      "  1%|          | 9/1000 [00:00<00:13, 74.89it/s]"
     ]
    },
    {
     "name": "stdout",
     "output_type": "stream",
     "text": [
      "Iteration 91000/100000\n",
      "Rewards: 0 | Q Loss: 1.093984427882506e-05, 1.0942175099587319e-05 | Policy Objective: -9.978371084337955e-05\n"
     ]
    },
    {
     "name": "stderr",
     "output_type": "stream",
     "text": [
      "100%|██████████| 1000/1000 [00:11<00:00, 83.96it/s]\n",
      "  1%|          | 8/1000 [00:00<00:12, 79.19it/s]"
     ]
    },
    {
     "name": "stdout",
     "output_type": "stream",
     "text": [
      "Iteration 92000/100000\n",
      "Rewards: 0 | Q Loss: 1.0821032267862765e-05, 1.0823337753616736e-05 | Policy Objective: -0.00010044750057318946\n"
     ]
    },
    {
     "name": "stderr",
     "output_type": "stream",
     "text": [
      "100%|██████████| 1000/1000 [00:12<00:00, 79.51it/s]\n",
      "  1%|          | 9/1000 [00:00<00:12, 79.76it/s]"
     ]
    },
    {
     "name": "stdout",
     "output_type": "stream",
     "text": [
      "Iteration 93000/100000\n",
      "Rewards: 0 | Q Loss: 1.0704784061188528e-05, 1.0707064756773102e-05 | Policy Objective: -0.00010108218198017295\n"
     ]
    },
    {
     "name": "stderr",
     "output_type": "stream",
     "text": [
      "100%|██████████| 1000/1000 [00:11<00:00, 83.60it/s]\n",
      "  1%|          | 9/1000 [00:00<00:12, 81.92it/s]"
     ]
    },
    {
     "name": "stdout",
     "output_type": "stream",
     "text": [
      "Iteration 94000/100000\n",
      "Rewards: 0 | Q Loss: 1.0591000453127096e-05, 1.0593256885992685e-05 | Policy Objective: -0.00010168653781500216\n"
     ]
    },
    {
     "name": "stderr",
     "output_type": "stream",
     "text": [
      "100%|██████████| 1000/1000 [00:13<00:00, 74.77it/s]\n",
      "  1%|          | 9/1000 [00:00<00:12, 81.07it/s]"
     ]
    },
    {
     "name": "stdout",
     "output_type": "stream",
     "text": [
      "Iteration 95000/100000\n",
      "Rewards: 0 | Q Loss: 1.0479613768764275e-05, 1.0481846449704963e-05 | Policy Objective: -0.0001022679537955965\n"
     ]
    },
    {
     "name": "stderr",
     "output_type": "stream",
     "text": [
      "100%|██████████| 1000/1000 [00:12<00:00, 79.59it/s]\n",
      "  1%|          | 7/1000 [00:00<00:16, 60.01it/s]"
     ]
    },
    {
     "name": "stdout",
     "output_type": "stream",
     "text": [
      "Iteration 96000/100000\n",
      "Rewards: 0 | Q Loss: 1.037054645582003e-05, 1.0372755879667585e-05 | Policy Objective: -0.0001028200955861705\n"
     ]
    },
    {
     "name": "stderr",
     "output_type": "stream",
     "text": [
      "100%|██████████| 1000/1000 [00:13<00:00, 74.89it/s]\n",
      "  1%|          | 9/1000 [00:00<00:13, 75.69it/s]"
     ]
    },
    {
     "name": "stdout",
     "output_type": "stream",
     "text": [
      "Iteration 97000/100000\n",
      "Rewards: 0 | Q Loss: 1.0263726538389573e-05, 1.026591318467169e-05 | Policy Objective: -0.00010335424344086695\n"
     ]
    },
    {
     "name": "stderr",
     "output_type": "stream",
     "text": [
      "100%|██████████| 1000/1000 [00:15<00:00, 63.68it/s]\n",
      "  1%|          | 7/1000 [00:00<00:15, 63.62it/s]"
     ]
    },
    {
     "name": "stdout",
     "output_type": "stream",
     "text": [
      "Iteration 98000/100000\n",
      "Rewards: 0 | Q Loss: 1.0159085568503902e-05, 1.0161249902068855e-05 | Policy Objective: -0.00010385988302462035\n"
     ]
    },
    {
     "name": "stderr",
     "output_type": "stream",
     "text": [
      "100%|██████████| 1000/1000 [00:13<00:00, 74.13it/s]\n",
      "  1%|          | 8/1000 [00:00<00:12, 79.35it/s]"
     ]
    },
    {
     "name": "stdout",
     "output_type": "stream",
     "text": [
      "Iteration 99000/100000\n",
      "Rewards: 0 | Q Loss: 1.0056562359963104e-05, 1.0058704831572856e-05 | Policy Objective: -0.00010434426741212263\n"
     ]
    },
    {
     "name": "stderr",
     "output_type": "stream",
     "text": [
      "100%|██████████| 1000/1000 [00:13<00:00, 74.89it/s]\n"
     ]
    },
    {
     "name": "stdout",
     "output_type": "stream",
     "text": [
      "Iteration 100000/100000\n",
      "Rewards: 0 | Q Loss: 9.956092299643005e-06, 9.95821334653666e-06 | Policy Objective: -0.00010480723061092652\n"
     ]
    }
   ],
   "source": [
    "seed = 1995\n",
    "torch.manual_seed(seed)\n",
    "env = gym.make(\"ReacherPyBulletEnv-v0\", sparse_reward = True, rand_init = False)\n",
    "sub_states = [[0, 1, 2, 3, 4, 5, 6], [0, 1, 2, 3, 7, 8]]\n",
    "layers = [[128,128] for i in range(3)]\n",
    "\n",
    "td4 = TD4(env, sub_states, layers)\n",
    "\n",
    "res = td4.train(200000, 1000)"
   ]
  },
  {
   "cell_type": "code",
   "execution_count": 8,
   "metadata": {},
   "outputs": [],
   "source": [
    "import pickle\n",
    "pickle.dump(res, open('./data/info_{}'.format(seed), 'wb'))\n",
    "path = './data/policy_{}'.format(seed)\n",
    "torch.save(td4.pol.state_dict(), path)"
   ]
  },
  {
   "cell_type": "code",
   "execution_count": null,
   "metadata": {},
   "outputs": [],
   "source": [
    "# pickle.dump(info, open('./policies_td3/info_{}_{}'.format(batch_size, seed), 'wb'))\n",
    "# path = './policies_td3/policy_{}_{}'.format(batch_size, seed)\n",
    "# torch.save(td3.pol.state_dict(), path)\n"
   ]
  },
  {
   "cell_type": "code",
   "execution_count": null,
   "metadata": {},
   "outputs": [],
   "source": [
    "import torch\n",
    "a = torch.tensor([[1,2],[3,4], [5,6]])\n",
    "a[:][1]\n"
   ]
  },
  {
   "cell_type": "code",
   "execution_count": null,
   "metadata": {},
   "outputs": [],
   "source": []
  }
 ],
 "metadata": {
  "kernelspec": {
   "display_name": "ECE276c_project",
   "language": "python",
   "name": "ece276c_project"
  },
  "language_info": {
   "codemirror_mode": {
    "name": "ipython",
    "version": 3
   },
   "file_extension": ".py",
   "mimetype": "text/x-python",
   "name": "python",
   "nbconvert_exporter": "python",
   "pygments_lexer": "ipython3",
   "version": "3.7.5"
  },
  "pycharm": {
   "stem_cell": {
    "cell_type": "raw",
    "source": [],
    "metadata": {
     "collapsed": false
    }
   }
  }
 },
 "nbformat": 4,
 "nbformat_minor": 2
}